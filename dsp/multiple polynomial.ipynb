{
 "cells": [
  {
   "cell_type": "code",
   "execution_count": 8,
   "id": "dda9fa26",
   "metadata": {},
   "outputs": [
    {
     "name": "stdout",
     "output_type": "stream",
     "text": [
      "[ 5 15 25 35 45 55]\n",
      "[ 5 20 14 32 22 38]\n"
     ]
    },
    {
     "data": {
      "image/png": "[encoded data removed]",
      "text/plain": [
       "<Figure size 432x288 with 1 Axes>"
      ]
     },
     "metadata": {
      "needs_background": "light"
     },
     "output_type": "display_data"
    }
   ],
   "source": [
    "import numpy as np\n",
    "import pandas as pd\n",
    "import matplotlib.pyplot as plt\n",
    "from sklearn.linear_model import LinearRegression\n",
    "x=np.array([5,15,25,35,45,55])\n",
    "print(x)\n",
    "y=np.array([5,20,14,32,22,38])\n",
    "print(y)\n",
    "plt.scatter(x,y)\n",
    "plt. show()\n"
   ]
  },
  {
   "cell_type": "code",
   "execution_count": 9,
   "id": "6021abf6",
   "metadata": {},
   "outputs": [
    {
     "data": {
      "image/png": "[encoded data removed]",
      "text/plain": [
       "<Figure size 432x288 with 1 Axes>"
      ]
     },
     "metadata": {
      "needs_background": "light"
     },
     "output_type": "display_data"
    }
   ],
   "source": [
    "import matplotlib.pyplot as plt\n",
    "from scipy import stats\n",
    "\n",
    "x = [5,7,8,7,2,17,2,9,4,11,12,9,6]\n",
    "y = [99,86,87,88,111,86,103,87,94,78,77,85,86]\n",
    "\n",
    "slope, intercept, r, p, std_err = stats.linregress(x, y)\n",
    "\n",
    "def myfunc(x):\n",
    "  return slope * x + intercept\n",
    "\n",
    "mymodel = list(map(myfunc, x))\n",
    "\n",
    "plt.scatter(x, y)\n",
    "plt.plot(x, mymodel)\n",
    "plt.show()"
   ]
  },
  {
   "cell_type": "code",
   "execution_count": 1,
   "id": "e65ed4f4",
   "metadata": {},
   "outputs": [
    {
     "name": "stdout",
     "output_type": "stream",
     "text": [
      "['ce', 'ce']\n",
      "<re.Match object; span=(1, 3), match='in'>\n",
      "['The', 'rain', 'in', 'spain']\n",
      "Replace7all7white7spaces\n",
      "['a', 'a', 'a']\n",
      "[]\n",
      "['t', 'i', 'm', 'e', 's', 'b', 'e', 'f', 'o', 'r', 'e', 'A', 'M']\n",
      "['hello']\n"
     ]
    }
   ],
   "source": [
    "import re\n",
    "txt=\"find all occurencences\"\n",
    "x=re.findall(\"ce\",txt)\n",
    "print(x)\n",
    "y=re.search(\"in\",txt)\n",
    "print(y)\n",
    "\n",
    "\n",
    "import re\n",
    "txt=\"The rain in spain\"\n",
    "x=re.split(\"\\s\",txt)\n",
    "print(x)\n",
    "\n",
    "import re\n",
    "txt=\"Replace all white spaces\"\n",
    "x=re.sub(\"\\s\",\"7\",txt)\n",
    "print(x)\n",
    "\n",
    "\n",
    "x=re.findall(\"[arr]\",txt)\n",
    "print(x)\n",
    "\n",
    "print(re.findall(\"[0123]\",txt))\n",
    "\n",
    "txt=\"8 times before 11:45 AM\"\n",
    "print(re.findall(\"[a-zA-Z]\",txt))\n",
    "\n",
    "\n",
    "txt=\"hello planet\"\n",
    "x=re.findall(\"he.*o\",txt)\n",
    "print(x)\n",
    "\n",
    "\n",
    "\n",
    "\n",
    "\n"
   ]
  },
  {
   "cell_type": "code",
   "execution_count": null,
   "id": "2c0d0007",
   "metadata": {},
   "outputs": [],
   "source": []
  },
  {
   "cell_type": "code",
   "execution_count": null,
   "id": "ab55ce98",
   "metadata": {},
   "outputs": [],
   "source": []
  }
 ],
 "metadata": {
  "kernelspec": {
   "display_name": "Python 3 (ipykernel)",
   "language": "python",
   "name": "python3"
  },
  "language_info": {
   "codemirror_mode": {
    "name": "ipython",
    "version": 3
   },
   "file_extension": ".py",
   "mimetype": "text/x-python",
   "name": "python",
   "nbconvert_exporter": "python",
   "pygments_lexer": "ipython3",
   "version": "3.9.7"
  }
 },
 "nbformat": 4,
 "nbformat_minor": 5
}
