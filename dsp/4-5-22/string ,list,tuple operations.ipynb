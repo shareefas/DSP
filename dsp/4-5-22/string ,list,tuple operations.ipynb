{
 "cells": [
  {
   "cell_type": "code",
   "execution_count": 1,
   "id": "ccd4e737",
   "metadata": {},
   "outputs": [
    {
     "name": "stdout",
     "output_type": "stream",
     "text": [
      "<class 'int'>\n"
     ]
    }
   ],
   "source": [
    "a=10;\n",
    "print(type(a));"
   ]
  },
  {
   "cell_type": "code",
   "execution_count": 2,
   "id": "c9b93c52",
   "metadata": {},
   "outputs": [
    {
     "name": "stdout",
     "output_type": "stream",
     "text": [
      "<class 'int'>\n"
     ]
    }
   ],
   "source": [
    "b=10-2;\n",
    "print(type(b));"
   ]
  },
  {
   "cell_type": "code",
   "execution_count": 5,
   "id": "e14e9441",
   "metadata": {},
   "outputs": [
    {
     "name": "stdout",
     "output_type": "stream",
     "text": [
      "<class 'str'>\n"
     ]
    }
   ],
   "source": [
    "a=\"abc\"\n",
    "print(type(a));"
   ]
  },
  {
   "cell_type": "code",
   "execution_count": 7,
   "id": "42bf439c",
   "metadata": {},
   "outputs": [
    {
     "name": "stdout",
     "output_type": "stream",
     "text": [
      "<class 'str'>\n"
     ]
    }
   ],
   "source": [
    "a=\"True\"\n",
    "print(type(a))"
   ]
  },
  {
   "cell_type": "markdown",
   "id": "91a8b1b8",
   "metadata": {},
   "source": []
  },
  {
   "cell_type": "markdown",
   "id": "d7e116c3",
   "metadata": {},
   "source": [
    "#                                 STRING OPERATIONS"
   ]
  },
  {
   "cell_type": "code",
   "execution_count": 8,
   "id": "5f71fe4e",
   "metadata": {},
   "outputs": [
    {
     "name": "stdout",
     "output_type": "stream",
     "text": [
      "hello\n"
     ]
    }
   ],
   "source": [
    "str=\"hello\"\n",
    "print(str)"
   ]
  },
  {
   "cell_type": "code",
   "execution_count": 11,
   "id": "f8a29f21",
   "metadata": {},
   "outputs": [],
   "source": [
    "\n",
    "str=\"hello\""
   ]
  },
  {
   "cell_type": "code",
   "execution_count": 12,
   "id": "93ebd0de",
   "metadata": {},
   "outputs": [
    {
     "name": "stdout",
     "output_type": "stream",
     "text": [
      "hello\n"
     ]
    }
   ],
   "source": [
    "print(str)"
   ]
  },
  {
   "cell_type": "code",
   "execution_count": 13,
   "id": "882b72e0",
   "metadata": {},
   "outputs": [
    {
     "name": "stdout",
     "output_type": "stream",
     "text": [
      "h\n"
     ]
    }
   ],
   "source": [
    "print(str[0])"
   ]
  },
  {
   "cell_type": "code",
   "execution_count": 15,
   "id": "6df3f712",
   "metadata": {},
   "outputs": [
    {
     "name": "stdout",
     "output_type": "stream",
     "text": [
      "hel\n"
     ]
    }
   ],
   "source": [
    "print(str[0:3])"
   ]
  },
  {
   "cell_type": "code",
   "execution_count": 16,
   "id": "6fd1e6e1",
   "metadata": {},
   "outputs": [
    {
     "name": "stdout",
     "output_type": "stream",
     "text": [
      "hell\n"
     ]
    }
   ],
   "source": [
    "print(str[0:4])"
   ]
  },
  {
   "cell_type": "code",
   "execution_count": 17,
   "id": "622b3057",
   "metadata": {},
   "outputs": [
    {
     "name": "stdout",
     "output_type": "stream",
     "text": [
      "llo\n"
     ]
    }
   ],
   "source": [
    "print(str[2:5])"
   ]
  },
  {
   "cell_type": "markdown",
   "id": "1e327bb4",
   "metadata": {},
   "source": [
    "STRING CONCATENATION"
   ]
  },
  {
   "cell_type": "code",
   "execution_count": 22,
   "id": "110e2d1c",
   "metadata": {},
   "outputs": [
    {
     "name": "stdout",
     "output_type": "stream",
     "text": [
      "helloworld\n",
      "a*3= hellohellohello\n"
     ]
    }
   ],
   "source": [
    "a=\"hello\"\n",
    "b=\"world\"\n",
    "print(a+b)\n",
    "print(\"a*3=\",a*3)"
   ]
  },
  {
   "cell_type": "markdown",
   "id": "069e916f",
   "metadata": {},
   "source": [
    "MEMBERSHIP FUNCTION"
   ]
  },
  {
   "cell_type": "code",
   "execution_count": 24,
   "id": "e74ad5ad",
   "metadata": {},
   "outputs": [
    {
     "data": {
      "text/plain": [
       "False"
      ]
     },
     "execution_count": 24,
     "metadata": {},
     "output_type": "execute_result"
    }
   ],
   "source": [
    "a=\"hello\"\n",
    "\"a\"in a"
   ]
  },
  {
   "cell_type": "code",
   "execution_count": 25,
   "id": "20d0d0bb",
   "metadata": {},
   "outputs": [
    {
     "data": {
      "text/plain": [
       "True"
      ]
     },
     "execution_count": 25,
     "metadata": {},
     "output_type": "execute_result"
    }
   ],
   "source": [
    "\"l\"in a"
   ]
  },
  {
   "cell_type": "code",
   "execution_count": 26,
   "id": "a3c5c6b3",
   "metadata": {},
   "outputs": [
    {
     "data": {
      "text/plain": [
       "True"
      ]
     },
     "execution_count": 26,
     "metadata": {},
     "output_type": "execute_result"
    }
   ],
   "source": [
    "\"hello\" in a"
   ]
  },
  {
   "cell_type": "code",
   "execution_count": 27,
   "id": "f4366ef7",
   "metadata": {},
   "outputs": [
    {
     "data": {
      "text/plain": [
       "True"
      ]
     },
     "execution_count": 27,
     "metadata": {},
     "output_type": "execute_result"
    }
   ],
   "source": [
    "\"llo\"in a"
   ]
  },
  {
   "cell_type": "code",
   "execution_count": 28,
   "id": "7e366217",
   "metadata": {},
   "outputs": [
    {
     "data": {
      "text/plain": [
       "False"
      ]
     },
     "execution_count": 28,
     "metadata": {},
     "output_type": "execute_result"
    }
   ],
   "source": [
    "\"ho\"in a"
   ]
  },
  {
   "cell_type": "markdown",
   "id": "e618ed97",
   "metadata": {},
   "source": [
    "CAPITLIZE"
   ]
  },
  {
   "cell_type": "code",
   "execution_count": 29,
   "id": "d1ab9e91",
   "metadata": {},
   "outputs": [
    {
     "data": {
      "text/plain": [
       "'Shareef'"
      ]
     },
     "execution_count": 29,
     "metadata": {},
     "output_type": "execute_result"
    }
   ],
   "source": [
    "a=\"shareef\"\n",
    "a.capitalize()"
   ]
  },
  {
   "cell_type": "code",
   "execution_count": 30,
   "id": "b9763bda",
   "metadata": {},
   "outputs": [
    {
     "data": {
      "text/plain": [
       "'shareef'"
      ]
     },
     "execution_count": 30,
     "metadata": {},
     "output_type": "execute_result"
    }
   ],
   "source": [
    "a=\"SHAREEF\"\n",
    "a.casefold()"
   ]
  },
  {
   "cell_type": "code",
   "execution_count": 45,
   "id": "7c1905f3",
   "metadata": {},
   "outputs": [
    {
     "data": {
      "text/plain": [
       "2"
      ]
     },
     "execution_count": 45,
     "metadata": {},
     "output_type": "execute_result"
    }
   ],
   "source": [
    "a=\"SHAREEF SHAIK \"\n",
    "a.count('A')"
   ]
  },
  {
   "cell_type": "code",
   "execution_count": 48,
   "id": "41f5664f",
   "metadata": {},
   "outputs": [
    {
     "data": {
      "text/plain": [
       "12"
      ]
     },
     "execution_count": 48,
     "metadata": {},
     "output_type": "execute_result"
    }
   ],
   "source": [
    "a=\"shareef shaik\"\n",
    "a.index(\"k\")"
   ]
  },
  {
   "cell_type": "code",
   "execution_count": 60,
   "id": "d1771e69",
   "metadata": {},
   "outputs": [
    {
     "data": {
      "text/plain": [
       "True"
      ]
     },
     "execution_count": 60,
     "metadata": {},
     "output_type": "execute_result"
    }
   ],
   "source": [
    "a=\"DATASCIENCE\"\n",
    "a.isalpha()"
   ]
  },
  {
   "cell_type": "code",
   "execution_count": 59,
   "id": "fe063170",
   "metadata": {},
   "outputs": [
    {
     "data": {
      "text/plain": [
       "'DATA SCIENCE'"
      ]
     },
     "execution_count": 59,
     "metadata": {},
     "output_type": "execute_result"
    }
   ],
   "source": [
    "a"
   ]
  },
  {
   "cell_type": "code",
   "execution_count": 62,
   "id": "ff371e53",
   "metadata": {},
   "outputs": [
    {
     "data": {
      "text/plain": [
       "'cabcdabce'"
      ]
     },
     "execution_count": 62,
     "metadata": {},
     "output_type": "execute_result"
    }
   ],
   "source": [
    "a=\"abc\"\n",
    "b=\"cde\"\n",
    "a.join(b)"
   ]
  },
  {
   "cell_type": "code",
   "execution_count": 68,
   "id": "df555393",
   "metadata": {},
   "outputs": [
    {
     "data": {
      "text/plain": [
       "('',\n",
       " 'data',\n",
       " ' science eith jkdshfkaj fjhdkjfhdagh a gdghdkjgha kjghdakjfhg g gadhgahg agfgdfa gagh')"
      ]
     },
     "execution_count": 68,
     "metadata": {},
     "output_type": "execute_result"
    }
   ],
   "source": [
    "a=\"data science eith jkdshfkaj fjhdkjfhdagh a gdghdkjgha kjghdakjfhg g gadhgahg agfgdfa gagh\"\n",
    "a.partition(\"data\")"
   ]
  },
  {
   "cell_type": "code",
   "execution_count": 70,
   "id": "73d6a6a1",
   "metadata": {},
   "outputs": [
    {
     "data": {
      "text/plain": [
       "5"
      ]
     },
     "execution_count": 70,
     "metadata": {},
     "output_type": "execute_result"
    }
   ],
   "source": [
    "a=\"data science\"\n",
    "a.rfind(\"s\")"
   ]
  },
  {
   "cell_type": "code",
   "execution_count": 73,
   "id": "84fca618",
   "metadata": {},
   "outputs": [
    {
     "data": {
      "text/plain": [
       "'bbbbbbbbbbata science'"
      ]
     },
     "execution_count": 73,
     "metadata": {},
     "output_type": "execute_result"
    }
   ],
   "source": [
    "a=\"data science\"\n",
    "a.replace('d','bbbbbbbbbb')"
   ]
  },
  {
   "cell_type": "markdown",
   "id": "2eaa5cc4",
   "metadata": {},
   "source": [
    "LIST OPERATIONS"
   ]
  },
  {
   "cell_type": "code",
   "execution_count": 84,
   "id": "610967a3",
   "metadata": {},
   "outputs": [
    {
     "name": "stdout",
     "output_type": "stream",
     "text": [
      "[2, 5, 8, 9]\n"
     ]
    }
   ],
   "source": [
    "L=[2,5,8,9]\n",
    "print(L)"
   ]
  },
  {
   "cell_type": "code",
   "execution_count": 85,
   "id": "13a570c6",
   "metadata": {},
   "outputs": [
    {
     "name": "stdout",
     "output_type": "stream",
     "text": [
      "['abc', 'def']\n"
     ]
    }
   ],
   "source": [
    "L1=[\"abc\",\"def\"]\n",
    "print(L1)"
   ]
  },
  {
   "cell_type": "code",
   "execution_count": 87,
   "id": "69395d2a",
   "metadata": {},
   "outputs": [
    {
     "name": "stdout",
     "output_type": "stream",
     "text": [
      "[2, 5, 5, 8, 9]\n"
     ]
    }
   ],
   "source": [
    "L=[2,5,8,9]\n",
    "L.insert(2,5)\n",
    "print(L)\n"
   ]
  },
  {
   "cell_type": "code",
   "execution_count": 100,
   "id": "f4403231",
   "metadata": {},
   "outputs": [
    {
     "name": "stdout",
     "output_type": "stream",
     "text": [
      "1\n",
      "3\n"
     ]
    }
   ],
   "source": [
    "L=[1,2,3,4,8]\n",
    "print(L[0])\n",
    "print(L[-3])"
   ]
  },
  {
   "cell_type": "code",
   "execution_count": 103,
   "id": "0409052e",
   "metadata": {},
   "outputs": [
    {
     "data": {
      "text/plain": [
       "[2, 3, 4, 5, 5, 8]"
      ]
     },
     "execution_count": 103,
     "metadata": {},
     "output_type": "execute_result"
    }
   ],
   "source": [
    "L=[2,3,4,5]\n",
    "L.extend([5,8])\n",
    "L"
   ]
  },
  {
   "cell_type": "code",
   "execution_count": 104,
   "id": "7f271697",
   "metadata": {},
   "outputs": [
    {
     "data": {
      "text/plain": [
       "[1, 2, 3]"
      ]
     },
     "execution_count": 104,
     "metadata": {},
     "output_type": "execute_result"
    }
   ],
   "source": [
    "L=[1,2,3,4]\n",
    "L.pop()\n",
    "L"
   ]
  },
  {
   "cell_type": "code",
   "execution_count": 105,
   "id": "e53ae360",
   "metadata": {},
   "outputs": [
    {
     "data": {
      "text/plain": [
       "[3, 9, 8, 5, 1]"
      ]
     },
     "execution_count": 105,
     "metadata": {},
     "output_type": "execute_result"
    }
   ],
   "source": [
    "L=[1,5,8,9,3]\n",
    "L.reverse()\n",
    "L"
   ]
  },
  {
   "cell_type": "code",
   "execution_count": 106,
   "id": "d0487553",
   "metadata": {},
   "outputs": [
    {
     "name": "stdout",
     "output_type": "stream",
     "text": [
      "[1, 5, 8, 9, 3, 'e', 'r']\n"
     ]
    }
   ],
   "source": [
    "L1=[1,5,8,9,3]\n",
    "L2=[\"e\",\"r\"]\n",
    "print(L1+L2)"
   ]
  },
  {
   "cell_type": "code",
   "execution_count": 108,
   "id": "52c392e5",
   "metadata": {},
   "outputs": [
    {
     "data": {
      "text/plain": [
       "5"
      ]
     },
     "execution_count": 108,
     "metadata": {},
     "output_type": "execute_result"
    }
   ],
   "source": [
    "L=[1,5,8,9,3]\n",
    "len(L)\n"
   ]
  },
  {
   "cell_type": "code",
   "execution_count": 109,
   "id": "05535af6",
   "metadata": {},
   "outputs": [
    {
     "data": {
      "text/plain": [
       "9"
      ]
     },
     "execution_count": 109,
     "metadata": {},
     "output_type": "execute_result"
    }
   ],
   "source": [
    "L=[1,5,8,9,3]\n",
    "max(L)"
   ]
  },
  {
   "cell_type": "code",
   "execution_count": 110,
   "id": "34323581",
   "metadata": {},
   "outputs": [
    {
     "data": {
      "text/plain": [
       "1"
      ]
     },
     "execution_count": 110,
     "metadata": {},
     "output_type": "execute_result"
    }
   ],
   "source": [
    "min(L)"
   ]
  },
  {
   "cell_type": "markdown",
   "id": "d109ec09",
   "metadata": {},
   "source": [
    "TUPLE OPERATIONS"
   ]
  },
  {
   "cell_type": "code",
   "execution_count": 111,
   "id": "d6f74a41",
   "metadata": {},
   "outputs": [
    {
     "name": "stdout",
     "output_type": "stream",
     "text": [
      "(2, 5, 8, 1)\n"
     ]
    }
   ],
   "source": [
    "t=(2,5,8,1)\n",
    "print(t)"
   ]
  },
  {
   "cell_type": "code",
   "execution_count": 112,
   "id": "6cec7e04",
   "metadata": {},
   "outputs": [
    {
     "name": "stdout",
     "output_type": "stream",
     "text": [
      "4\n"
     ]
    }
   ],
   "source": [
    "print(len(t))"
   ]
  },
  {
   "cell_type": "code",
   "execution_count": 113,
   "id": "79606fc5",
   "metadata": {},
   "outputs": [
    {
     "name": "stdout",
     "output_type": "stream",
     "text": [
      "1\n"
     ]
    }
   ],
   "source": [
    "print(t.count(2))"
   ]
  },
  {
   "cell_type": "code",
   "execution_count": 115,
   "id": "7ae5d881",
   "metadata": {},
   "outputs": [
    {
     "name": "stdout",
     "output_type": "stream",
     "text": [
      "2\n"
     ]
    }
   ],
   "source": [
    "print(t.index(8))"
   ]
  },
  {
   "cell_type": "markdown",
   "id": "5b29c0aa",
   "metadata": {},
   "source": [
    "SET OOPERATIONS"
   ]
  },
  {
   "cell_type": "code",
   "execution_count": 117,
   "id": "d4cceeb6",
   "metadata": {},
   "outputs": [
    {
     "name": "stdout",
     "output_type": "stream",
     "text": [
      "{8, 2, 5}\n"
     ]
    }
   ],
   "source": [
    "S1={2,5,8}\n",
    "print(S1)"
   ]
  },
  {
   "cell_type": "code",
   "execution_count": 119,
   "id": "fbf6d98b",
   "metadata": {},
   "outputs": [
    {
     "data": {
      "text/plain": [
       "{2, 3, 5, 6, 7}"
      ]
     },
     "execution_count": 119,
     "metadata": {},
     "output_type": "execute_result"
    }
   ],
   "source": [
    "S1={2,5,7}\n",
    "S2={3,5,6}\n",
    "S1.union(S2 )"
   ]
  },
  {
   "cell_type": "code",
   "execution_count": 120,
   "id": "c1670b75",
   "metadata": {},
   "outputs": [
    {
     "data": {
      "text/plain": [
       "{5}"
      ]
     },
     "execution_count": 120,
     "metadata": {},
     "output_type": "execute_result"
    }
   ],
   "source": [
    "S1.intersection(S2)"
   ]
  },
  {
   "cell_type": "code",
   "execution_count": 121,
   "id": "fcd693bf",
   "metadata": {},
   "outputs": [
    {
     "data": {
      "text/plain": [
       "{2, 7}"
      ]
     },
     "execution_count": 121,
     "metadata": {},
     "output_type": "execute_result"
    }
   ],
   "source": [
    "S1.difference(S2)"
   ]
  },
  {
   "cell_type": "code",
   "execution_count": 123,
   "id": "f732cc22",
   "metadata": {},
   "outputs": [],
   "source": [
    "S1={2,5,7}\n",
    "S1.clear()"
   ]
  },
  {
   "cell_type": "code",
   "execution_count": 124,
   "id": "57b4b380",
   "metadata": {},
   "outputs": [
    {
     "data": {
      "text/plain": [
       "2"
      ]
     },
     "execution_count": 124,
     "metadata": {},
     "output_type": "execute_result"
    }
   ],
   "source": [
    "S1={2,5,7}\n",
    "S1.pop()"
   ]
  },
  {
   "cell_type": "code",
   "execution_count": 1,
   "id": "71d50efd",
   "metadata": {},
   "outputs": [
    {
     "data": {
      "text/plain": [
       "0"
      ]
     },
     "execution_count": 1,
     "metadata": {},
     "output_type": "execute_result"
    }
   ],
   "source": [
    "S1={0,1,2}\n",
    "S1.pop()"
   ]
  },
  {
   "cell_type": "code",
   "execution_count": 2,
   "id": "694f676b",
   "metadata": {},
   "outputs": [
    {
     "name": "stdout",
     "output_type": "stream",
     "text": [
      "None\n"
     ]
    }
   ],
   "source": [
    "S1={2,5,7}\n",
    "print(S1.discard(0))"
   ]
  },
  {
   "cell_type": "code",
   "execution_count": 3,
   "id": "1dd16449",
   "metadata": {},
   "outputs": [
    {
     "name": "stdout",
     "output_type": "stream",
     "text": [
      "{5, 6}\n"
     ]
    }
   ],
   "source": [
    "s1={2,5,6}\n",
    "s1.pop()\n",
    "print(s1)"
   ]
  },
  {
   "cell_type": "code",
   "execution_count": 4,
   "id": "5c6112bb",
   "metadata": {},
   "outputs": [
    {
     "name": "stdout",
     "output_type": "stream",
     "text": [
      "None\n"
     ]
    }
   ],
   "source": [
    "s1={2,5,6}\n",
    "print(s1.discard(0))"
   ]
  },
  {
   "cell_type": "code",
   "execution_count": 5,
   "id": "aab6798e",
   "metadata": {},
   "outputs": [
    {
     "name": "stdout",
     "output_type": "stream",
     "text": [
      "{2, 5, 6}\n"
     ]
    }
   ],
   "source": [
    "s1={2,5,6}\n",
    "print(s1.copy())"
   ]
  },
  {
   "cell_type": "code",
   "execution_count": 19,
   "id": "5da7da82",
   "metadata": {},
   "outputs": [],
   "source": [
    "s1={2,5,6}\n",
    "s1.difference_update({6})"
   ]
  },
  {
   "cell_type": "markdown",
   "id": "758fa8a6",
   "metadata": {},
   "source": [
    "DICTIONARY OPERATIONS"
   ]
  },
  {
   "cell_type": "code",
   "execution_count": 3,
   "id": "cc135866",
   "metadata": {},
   "outputs": [],
   "source": [
    "my_dict={1:\"apple\",2:\"ball\",3:\"cat\"}\n",
    "\n"
   ]
  },
  {
   "cell_type": "code",
   "execution_count": 4,
   "id": "c78a0d48",
   "metadata": {},
   "outputs": [
    {
     "data": {
      "text/plain": [
       "dict_keys([1, 2, 3])"
      ]
     },
     "execution_count": 4,
     "metadata": {},
     "output_type": "execute_result"
    }
   ],
   "source": [
    "my_dict.keys()"
   ]
  },
  {
   "cell_type": "code",
   "execution_count": 5,
   "id": "6ea74962",
   "metadata": {},
   "outputs": [
    {
     "data": {
      "text/plain": [
       "dict_values(['apple', 'ball', 'cat'])"
      ]
     },
     "execution_count": 5,
     "metadata": {},
     "output_type": "execute_result"
    }
   ],
   "source": [
    "my_dict.values()"
   ]
  },
  {
   "cell_type": "code",
   "execution_count": 6,
   "id": "ccb116d5",
   "metadata": {},
   "outputs": [
    {
     "data": {
      "text/plain": [
       "'cat'"
      ]
     },
     "execution_count": 6,
     "metadata": {},
     "output_type": "execute_result"
    }
   ],
   "source": [
    "my_dict[3]"
   ]
  },
  {
   "cell_type": "code",
   "execution_count": 7,
   "id": "de82aeb6",
   "metadata": {},
   "outputs": [
    {
     "data": {
      "text/plain": [
       "'ball'"
      ]
     },
     "execution_count": 7,
     "metadata": {},
     "output_type": "execute_result"
    }
   ],
   "source": [
    "my_dict[2]"
   ]
  },
  {
   "cell_type": "code",
   "execution_count": 9,
   "id": "cefdafcc",
   "metadata": {},
   "outputs": [
    {
     "data": {
      "text/plain": [
       "'apple'"
      ]
     },
     "execution_count": 9,
     "metadata": {},
     "output_type": "execute_result"
    }
   ],
   "source": [
    "my_dict.get(1)"
   ]
  },
  {
   "cell_type": "code",
   "execution_count": 10,
   "id": "25cfa618",
   "metadata": {},
   "outputs": [
    {
     "data": {
      "text/plain": [
       "{1: 'apple', 2: 'ball', 3: 'cat', 4: 'dog'}"
      ]
     },
     "execution_count": 10,
     "metadata": {},
     "output_type": "execute_result"
    }
   ],
   "source": [
    "my_dict[4]=\"dog\"\n",
    "my_dict"
   ]
  },
  {
   "cell_type": "code",
   "execution_count": 11,
   "id": "13da566d",
   "metadata": {},
   "outputs": [
    {
     "data": {
      "text/plain": [
       "{1: 'apple', 2: 'bat', 3: 'cat', 4: 'dog'}"
      ]
     },
     "execution_count": 11,
     "metadata": {},
     "output_type": "execute_result"
    }
   ],
   "source": [
    "my_dict[2]=\"bat\"\n",
    "my_dict"
   ]
  },
  {
   "cell_type": "code",
   "execution_count": 5,
   "id": "453c43a3",
   "metadata": {},
   "outputs": [
    {
     "name": "stdout",
     "output_type": "stream",
     "text": [
      "[5, 3, 2, 1]\n"
     ]
    }
   ],
   "source": [
    "L=[1,5,3,2]\n",
    "L.sort(reverse=True)\n",
    "print(L)"
   ]
  },
  {
   "cell_type": "code",
   "execution_count": 6,
   "id": "5fb3f6d1",
   "metadata": {},
   "outputs": [
    {
     "name": "stdout",
     "output_type": "stream",
     "text": [
      "Enter a numnber :9\n",
      "45\n"
     ]
    }
   ],
   "source": [
    "\n",
    "sum=0\n",
    "n=int(input(\"Enter a numnber :\"))\n",
    "for i in range(0,n+1):\n",
    "\tsum+=i\n",
    "print(sum)\n",
    "\n"
   ]
  },
  {
   "cell_type": "code",
   "execution_count": 20,
   "id": "b8267e2a",
   "metadata": {},
   "outputs": [
    {
     "ename": "TypeError",
     "evalue": "std() takes no arguments",
     "output_type": "error",
     "traceback": [
      "\u001b[1;31m---------------------------------------------------------------------------\u001b[0m",
      "\u001b[1;31mTypeError\u001b[0m                                 Traceback (most recent call last)",
      "\u001b[1;32m~\\AppData\\Local\\Temp/ipykernel_6072/1225191659.py\u001b[0m in \u001b[0;36m<module>\u001b[1;34m\u001b[0m\n\u001b[1;32m----> 1\u001b[1;33m \u001b[1;32mclass\u001b[0m \u001b[0mstd\u001b[0m\u001b[1;33m(\u001b[0m\u001b[0mobject\u001b[0m\u001b[1;33m)\u001b[0m\u001b[1;33m:\u001b[0m\u001b[1;33m\u001b[0m\u001b[1;33m\u001b[0m\u001b[0m\n\u001b[0m\u001b[0;32m      2\u001b[0m     \u001b[1;32mdef\u001b[0m \u001b[0m__int__\u001b[0m\u001b[1;33m(\u001b[0m\u001b[0mself\u001b[0m\u001b[1;33m,\u001b[0m\u001b[0mname\u001b[0m\u001b[1;33m,\u001b[0m\u001b[0mRNO\u001b[0m\u001b[1;33m)\u001b[0m\u001b[1;33m:\u001b[0m\u001b[1;33m\u001b[0m\u001b[1;33m\u001b[0m\u001b[0m\n\u001b[0;32m      3\u001b[0m         \u001b[0mself\u001b[0m\u001b[1;33m.\u001b[0m\u001b[0mname\u001b[0m\u001b[1;33m=\u001b[0m\u001b[0mname\u001b[0m\u001b[1;33m\u001b[0m\u001b[1;33m\u001b[0m\u001b[0m\n\u001b[0;32m      4\u001b[0m         \u001b[0mself\u001b[0m\u001b[1;33m.\u001b[0m\u001b[0mRNO\u001b[0m\u001b[1;33m=\u001b[0m\u001b[0mRNO\u001b[0m\u001b[1;33m\u001b[0m\u001b[1;33m\u001b[0m\u001b[0m\n\u001b[0;32m      5\u001b[0m     \u001b[1;32mdef\u001b[0m \u001b[0mdisplay\u001b[0m\u001b[1;33m(\u001b[0m\u001b[0mself\u001b[0m\u001b[1;33m)\u001b[0m\u001b[1;33m:\u001b[0m\u001b[1;33m\u001b[0m\u001b[1;33m\u001b[0m\u001b[0m\n",
      "\u001b[1;32m~\\AppData\\Local\\Temp/ipykernel_6072/1225191659.py\u001b[0m in \u001b[0;36mstd\u001b[1;34m()\u001b[0m\n\u001b[0;32m      6\u001b[0m         \u001b[0mprint\u001b[0m\u001b[1;33m(\u001b[0m\u001b[0mself\u001b[0m\u001b[1;33m.\u001b[0m\u001b[0mname\u001b[0m\u001b[1;33m)\u001b[0m\u001b[1;33m\u001b[0m\u001b[1;33m\u001b[0m\u001b[0m\n\u001b[0;32m      7\u001b[0m         \u001b[0mprint\u001b[0m\u001b[1;33m(\u001b[0m\u001b[0mself\u001b[0m\u001b[1;33m.\u001b[0m\u001b[0mRNO\u001b[0m\u001b[1;33m)\u001b[0m\u001b[1;33m\u001b[0m\u001b[1;33m\u001b[0m\u001b[0m\n\u001b[1;32m----> 8\u001b[1;33m     \u001b[0mS1\u001b[0m\u001b[1;33m=\u001b[0m\u001b[0mstd\u001b[0m\u001b[1;33m(\u001b[0m\u001b[1;34m\"Srinu\"\u001b[0m\u001b[1;33m,\u001b[0m\u001b[1;36m1\u001b[0m\u001b[1;33m)\u001b[0m\u001b[1;33m\u001b[0m\u001b[1;33m\u001b[0m\u001b[0m\n\u001b[0m\u001b[0;32m      9\u001b[0m     \u001b[0mS1\u001b[0m\u001b[1;33m.\u001b[0m\u001b[0mdisplay\u001b[0m\u001b[1;33m(\u001b[0m\u001b[1;33m)\u001b[0m\u001b[1;33m\u001b[0m\u001b[1;33m\u001b[0m\u001b[0m\n\u001b[0;32m     10\u001b[0m     \u001b[0mS2\u001b[0m\u001b[1;33m=\u001b[0m\u001b[0mstd\u001b[0m\u001b[1;33m(\u001b[0m\u001b[1;34m\"John\"\u001b[0m\u001b[1;33m,\u001b[0m\u001b[1;36m2\u001b[0m\u001b[1;33m)\u001b[0m\u001b[1;33m\u001b[0m\u001b[1;33m\u001b[0m\u001b[0m\n",
      "\u001b[1;31mTypeError\u001b[0m: std() takes no arguments"
     ]
    }
   ],
   "source": [
    "\n",
    "class std(object):\n",
    "    def __int__(self,name,RNO):\n",
    "        self.name=name\n",
    "        self.RNO=RNO\n",
    "    def display(self):\n",
    "        print(self.name)\n",
    "        print(self.RNO)\n",
    "    S1=std(\"Srinu\",1)\n",
    "    S1.display()\n",
    "    S2=std(\"John\",2)\n",
    "    S2.display()\n",
    "obj=std()\n",
    "print(obj.a)\n",
    "\n"
   ]
  },
  {
   "cell_type": "code",
   "execution_count": 14,
   "id": "1971512f",
   "metadata": {},
   "outputs": [
    {
     "name": "stdout",
     "output_type": "stream",
     "text": [
      "1 2 3 4 5 6 7 8 9 10 \n",
      "10 9 8 7 6 5 4 3 2 1 \n",
      "1 2 3 4 5 6 7 8 9 10 \n",
      "10 9 8 7 6 5 4 3 2 1 "
     ]
    }
   ],
   "source": [
    "\n",
    "\n",
    "# For loop\n",
    "for i in range(1,11):\n",
    "    print(i,end=\" \")\n",
    "print()\n",
    "for i in range(10,0,-1):\n",
    "    print(i,end=\" \")\n",
    "print()\n",
    "#while loop\n",
    "\n",
    "\n",
    "i=1\n",
    "while(i<=10):\n",
    "    print(i,end=\" \")\n",
    "    i+=1\n",
    "print()\n",
    "i=10\n",
    "while(i>=1):\n",
    "    print(i,end=\" \")\n",
    "    i-=1;\n",
    "\n"
   ]
  },
  {
   "cell_type": "code",
   "execution_count": 22,
   "id": "d2bcbb67",
   "metadata": {},
   "outputs": [
    {
     "name": "stdout",
     "output_type": "stream",
     "text": [
      "9\n",
      "1\n",
      "2\n",
      "3\n",
      "5\n",
      "8\n",
      "13\n",
      "21\n",
      "None\n"
     ]
    }
   ],
   "source": [
    "def fib(n):\n",
    "    if(n==0):\n",
    "        print(\"0\")\n",
    "    elif(n==1):\n",
    "        print(\"1\")\n",
    "    else:\n",
    "        n1=0\n",
    "        n2=1\n",
    "\n",
    "    for i in range(2,n):\n",
    "        n3=n1+n2\n",
    "        n1,n2=n2,n3\n",
    "        print(n3)\n",
    "\t\t\n",
    "n=int(input())\n",
    "print(fib(n))\n"
   ]
  },
  {
   "cell_type": "code",
   "execution_count": 23,
   "id": "3174f29b",
   "metadata": {},
   "outputs": [
    {
     "name": "stdout",
     "output_type": "stream",
     "text": [
      "Enter a number :3\n",
      "0 1 1 "
     ]
    }
   ],
   "source": [
    "n=int(input(\"Enter a number :\"))\n",
    "n1,n2=0,1\n",
    "print(n1,n2,end=\" \")\n",
    "for i in range(2,n):\n",
    "\tn3=n1+n2\n",
    "\tn1,n2=n2,n3\n",
    "\tprint(n3,end=\" \")\n"
   ]
  },
  {
   "cell_type": "code",
   "execution_count": null,
   "id": "08d63f01",
   "metadata": {},
   "outputs": [],
   "source": []
  }
 ],
 "metadata": {
  "kernelspec": {
   "display_name": "Python 3 (ipykernel)",
   "language": "python",
   "name": "python3"
  },
  "language_info": {
   "codemirror_mode": {
    "name": "ipython",
    "version": 3
   },
   "file_extension": ".py",
   "mimetype": "text/x-python",
   "name": "python",
   "nbconvert_exporter": "python",
   "pygments_lexer": "ipython3",
   "version": "3.9.7"
  }
 },
 "nbformat": 4,
 "nbformat_minor": 5
}
